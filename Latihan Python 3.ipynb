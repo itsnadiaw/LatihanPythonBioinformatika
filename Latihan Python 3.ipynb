{
 "cells": [
  {
   "cell_type": "code",
   "execution_count": 1,
   "id": "09216434-084d-4ace-8481-ffb652937811",
   "metadata": {},
   "outputs": [],
   "source": [
    "from Bio import Entrez"
   ]
  },
  {
   "cell_type": "code",
   "execution_count": 2,
   "id": "3f60795c-f025-4463-ae31-2ef6c4d11376",
   "metadata": {},
   "outputs": [
    {
     "name": "stdout",
     "output_type": "stream",
     "text": [
      "{'Count': '1077', 'RetMax': '20', 'RetStart': '0', 'IdList': ['2148246114', '2148246100', '2148246086', '2148246072', '2148246058', '2148246044', '2148246030', '2148246016', '2148246002', '2148245988', '2148245974', '2148245960', '2148245946', '2148245932', '2148245918', '2148245904', '2148245890', '2148245876', '2148245862', '2148245848'], 'TranslationSet': [{'From': 'Capra hircus', 'To': '\"Capra hircus\"[Organism] OR Capra hircus[All Fields]'}], 'TranslationStack': [{'Term': '\"Capra hircus\"[Organism]', 'Field': 'Organism', 'Count': '1353736', 'Explode': 'Y'}, {'Term': 'Capra hircus[All Fields]', 'Field': 'All Fields', 'Count': '1358836', 'Explode': 'N'}, 'OR', 'GROUP', {'Term': 'CYTB[All Fields]', 'Field': 'All Fields', 'Count': '619284', 'Explode': 'N'}, 'AND', 'GROUP'], 'QueryTranslation': '(\"Capra hircus\"[Organism] OR Capra hircus[All Fields]) AND CYTB[All Fields]'}\n"
     ]
    }
   ],
   "source": [
    "from Bio import Entrez\n",
    "Entrez.email = \"localuser@localhost.localdomain\" #Mandatory! Can be replaced with your personal email.\n",
    "\n",
    "#creating handle\n",
    "handle = Entrez.esearch(db=\"nuccore\", term=\"Capra hircus CYTB\")\n",
    "record = Entrez.read(handle)\n",
    "print(record)\n",
    "handle.close() #always close your handle after you finish"
   ]
  },
  {
   "cell_type": "code",
   "execution_count": 3,
   "id": "244d92da-9411-4a8b-99ab-05dbd3bf54db",
   "metadata": {},
   "outputs": [
    {
     "name": "stdout",
     "output_type": "stream",
     "text": [
      "LOCUS       AB044308                1140 bp    DNA     linear   MAM 26-JUL-2016\n",
      "DEFINITION  Capra hircus mitochondrial cytb gene for cytochrome b, complete\n",
      "            cds, isolate:Laos-5.\n",
      "ACCESSION   AB044308\n",
      "VERSION     AB044308.1\n",
      "KEYWORDS    .\n",
      "SOURCE      mitochondrion Capra hircus (goat)\n",
      "  ORGANISM  Capra hircus\n",
      "            Eukaryota; Metazoa; Chordata; Craniata; Vertebrata; Euteleostomi;\n",
      "            Mammalia; Eutheria; Laurasiatheria; Artiodactyla; Ruminantia;\n",
      "            Pecora; Bovidae; Caprinae; Capra.\n",
      "REFERENCE   1\n",
      "  AUTHORS   Mannen,H., Nagata,Y. and Tsuji,S.\n",
      "  TITLE     Mitochondrial DNA reveal that domestic goat (Capra hircus) are\n",
      "            genetically affected by two subspecies of bezoar (Capra aegagurus)\n",
      "  JOURNAL   Biochem. Genet. 39 (5-6), 145-154 (2001)\n",
      "   PUBMED   11530852\n",
      "REFERENCE   2  (bases 1 to 1140)\n",
      "  AUTHORS   Mannen,H.\n",
      "  TITLE     Direct Submission\n",
      "  JOURNAL   Submitted (05-JUN-2000) Hideyuki Mannen, Kobe University,\n",
      "            Laboratory of Animal Breeding & Genetics, Faculty of Agriculture;\n",
      "            1-1 Rokkoudai, Nada-ku, Kobe, Hyogo 657-8501, Japan\n",
      "            (E-mail:mannen@kobe-u.ac.jp, Tel:81-78-803-5803,\n",
      "            Fax:81-78-803-5801)\n",
      "FEATURES             Location/Qualifiers\n",
      "     source          1..1140\n",
      "                     /organism=\"Capra hircus\"\n",
      "                     /organelle=\"mitochondrion\"\n",
      "                     /mol_type=\"genomic DNA\"\n",
      "                     /strain=\"Laos native\"\n",
      "                     /isolate=\"Laos-5\"\n",
      "                     /db_xref=\"taxon:9925\"\n",
      "     gene            1..1140\n",
      "                     /gene=\"cytb\"\n",
      "     CDS             1..1140\n",
      "                     /gene=\"cytb\"\n",
      "                     /codon_start=1\n",
      "                     /transl_table=2\n",
      "                     /product=\"cytochrome b\"\n",
      "                     /protein_id=\"BAB78509.1\"\n",
      "                     /translation=\"MTNIRKTHPLMKIVNNAFIDLPTPSNISSWWNFGSLLGICLILQ\n",
      "                     ILTGLFLAMHYTSDTMTAFSSVTHICRDVNYGWIIRYMHANGASMFFICLFMHIGRGL\n",
      "                     YYGSYTFLETWNIGVILLLATMATAFMGYVLPWGQMSFWGATVITNLLSAIPYIGTNL\n",
      "                     VEWIWGGFSVDKATLTRFFAFHFILPFIITALAMVHLLFLHETGSNNPTGIPSDADKI\n",
      "                     PFHPYYTIKDILGAMLLILVLMLLVLFTPDLLGDPDNYIPANPLNTPPHIKPEWYFLF\n",
      "                     AYAILRSIPNKLGGVLALVLSILILVLVPFLHTSKQRSMMFRPISQCMFWILVADLLT\n",
      "                     LTWIGGQPVEHPYIIIGQLASIMYFLIILVMMPAASTIENNLLKW\"\n",
      "ORIGIN      \n",
      "        1 atgaccaaca tccgaaagac ccacccatta ataaaaattg taaacaacgc atttattgac\n",
      "       61 ctcccaaccc catcaaacat ctcatcatga tgaaactttg gatccctcct aggaatttgc\n",
      "      121 ctaatcttac aaatcctgac aggcctattc ctagcaatac actatacatc cgacacaata\n",
      "      181 acagcatttt cctctgtaac tcacatttgt cgagatgtaa attatggctg aatcatccga\n",
      "      241 tacatacacg caaacggagc atcaatattc tttatctgcc tattcataca tatcggacga\n",
      "      301 ggtctatact atggatcata tacctttcta gaaacatgaa acattggagt aatcctcctg\n",
      "      361 ctcgcgacaa tggccacagc attcataggc tatgttttac catgaggaca aatatcattt\n",
      "      421 tgaggggcaa cagtcatcac taatcttctt tcagcaatcc catatattgg cacaaaccta\n",
      "      481 gtcgaatgaa tctgaggggg attctcagta gacaaagcca ctctcacccg attcttcgcc\n",
      "      541 ttccacttta tcctcccatt catcatcaca gccctcgcca tagtccacct gcttttcctc\n",
      "      601 cacgaaacag gatcgaacaa ccccacagga attccatcag acgcagataa aatcccattt\n",
      "      661 cacccttact acaccattaa agatatctta ggcgccatgc tactaattct tgttctaata\n",
      "      721 ttactagtac tattcacacc cgacctactc ggagacccag acaactatat cccagcaaat\n",
      "      781 ccactcaata caccccctca cattaaacct gagtggtatt tcctatttgc atacgcaatc\n",
      "      841 ctacgatcaa ttcccaacaa actaggagga gtcctagccc tagtcctctc aatcctaatc\n",
      "      901 ttagtacttg tacccttcct ccacacatct aaacaacgaa gcataatatt ccgcccaatc\n",
      "      961 agccaatgca tattctgaat cctggtagca gatctattaa cactcacatg aattggagga\n",
      "     1021 cagccagtcg aacatcccta cattattatt ggacaactag catctatcat atatttcctc\n",
      "     1081 atcattctag taataatacc agcagctagc accattgaaa acaaccttct aaaatgaaga\n",
      "//\n",
      "\n",
      "\n"
     ]
    }
   ],
   "source": [
    "#creating EFetch handle\n",
    "efetch_handle = Entrez.efetch(db=\"nuccore\", id=\"17298008\", rettype=\"gb\", retmode=\"text\")\n",
    "gbrecord = efetch_handle.read()\n",
    "print(gbrecord)"
   ]
  },
  {
   "cell_type": "code",
   "execution_count": 4,
   "id": "921fb004-e8ee-4bd3-a03a-bb46dca3462f",
   "metadata": {},
   "outputs": [
    {
     "name": "stdout",
     "output_type": "stream",
     "text": [
      ">AB044308.1 Capra hircus mitochondrial cytb gene for cytochrome b, complete cds, isolate:Laos-5\n",
      "ATGACCAACATCCGAAAGACCCACCCATTAATAAAAATTGTAAACAACGCATTTATTGACCTCCCAACCC\n",
      "CATCAAACATCTCATCATGATGAAACTTTGGATCCCTCCTAGGAATTTGCCTAATCTTACAAATCCTGAC\n",
      "AGGCCTATTCCTAGCAATACACTATACATCCGACACAATAACAGCATTTTCCTCTGTAACTCACATTTGT\n",
      "CGAGATGTAAATTATGGCTGAATCATCCGATACATACACGCAAACGGAGCATCAATATTCTTTATCTGCC\n",
      "TATTCATACATATCGGACGAGGTCTATACTATGGATCATATACCTTTCTAGAAACATGAAACATTGGAGT\n",
      "AATCCTCCTGCTCGCGACAATGGCCACAGCATTCATAGGCTATGTTTTACCATGAGGACAAATATCATTT\n",
      "TGAGGGGCAACAGTCATCACTAATCTTCTTTCAGCAATCCCATATATTGGCACAAACCTAGTCGAATGAA\n",
      "TCTGAGGGGGATTCTCAGTAGACAAAGCCACTCTCACCCGATTCTTCGCCTTCCACTTTATCCTCCCATT\n",
      "CATCATCACAGCCCTCGCCATAGTCCACCTGCTTTTCCTCCACGAAACAGGATCGAACAACCCCACAGGA\n",
      "ATTCCATCAGACGCAGATAAAATCCCATTTCACCCTTACTACACCATTAAAGATATCTTAGGCGCCATGC\n",
      "TACTAATTCTTGTTCTAATATTACTAGTACTATTCACACCCGACCTACTCGGAGACCCAGACAACTATAT\n",
      "CCCAGCAAATCCACTCAATACACCCCCTCACATTAAACCTGAGTGGTATTTCCTATTTGCATACGCAATC\n",
      "CTACGATCAATTCCCAACAAACTAGGAGGAGTCCTAGCCCTAGTCCTCTCAATCCTAATCTTAGTACTTG\n",
      "TACCCTTCCTCCACACATCTAAACAACGAAGCATAATATTCCGCCCAATCAGCCAATGCATATTCTGAAT\n",
      "CCTGGTAGCAGATCTATTAACACTCACATGAATTGGAGGACAGCCAGTCGAACATCCCTACATTATTATT\n",
      "GGACAACTAGCATCTATCATATATTTCCTCATCATTCTAGTAATAATACCAGCAGCTAGCACCATTGAAA\n",
      "ACAACCTTCTAAAATGAAGA\n",
      "\n",
      "\n"
     ]
    }
   ],
   "source": [
    "efetch_handle = Entrez.efetch(db=\"nuccore\", id=\"17298008\", rettype=\"fasta\", retmode=\"text\")\n",
    "gbrecord = efetch_handle.read()\n",
    "print(gbrecord)"
   ]
  },
  {
   "cell_type": "code",
   "execution_count": 5,
   "id": "7a9b1e1e-a347-42c6-bbed-7cc3918cb868",
   "metadata": {},
   "outputs": [
    {
     "name": "stdout",
     "output_type": "stream",
     "text": [
      "FASTA Download\n"
     ]
    }
   ],
   "source": [
    "import os\n",
    "\n",
    "#creating EFetch handle\n",
    "filename = \"CYTB capra hircus 3.fasta\" #up to you, but FASTA files always use *.fasta or *.fas \n",
    "\n",
    "#creating EFetch handle\n",
    "if not os.path.isfile(filename):\n",
    "    # Downloading file...\n",
    "    efetch_handle = Entrez.efetch(db=\"nuccore\", id=\"17298008\", rettype=\"fasta\", retmode=\"text\")\n",
    "    output_file_handle = open(filename, \"w\")\n",
    "    output_file_handle.write(efetch_handle.read())\n",
    "    output_file_handle.close()\n",
    "    efetch_handle.close()\n",
    "    print(\"FASTA Download\")"
   ]
  },
  {
   "cell_type": "code",
   "execution_count": 7,
   "id": "786eef06-b4d5-4cb5-9448-141a3cc68940",
   "metadata": {},
   "outputs": [
    {
     "name": "stdout",
     "output_type": "stream",
     "text": [
      "GB Downloaded\n"
     ]
    }
   ],
   "source": [
    "#creating EFetch handle\n",
    "filename = \"Capra hircus complete genome mitochondrion 3.gbk\" #up to you, but Genbank files always use *.gb or *.gbk \n",
    "\n",
    "#creating EFetch handle\n",
    "if not os.path.isfile(filename):\n",
    "    # Downloading file...\n",
    "    efetch_handle = Entrez.efetch(db=\"nuccore\", id=\"1945588316\", rettype=\"gb\", retmode=\"text\")\n",
    "    output_file_handle = open(filename, \"w\")\n",
    "    output_file_handle.write(efetch_handle.read())\n",
    "    output_file_handle.close()\n",
    "    efetch_handle.close()\n",
    "    print(\"GB Downloaded\")"
   ]
  },
  {
   "cell_type": "code",
   "execution_count": 2,
   "id": "daf50cff-c404-4d3a-ab56-c62097ca9b44",
   "metadata": {},
   "outputs": [
    {
     "name": "stdout",
     "output_type": "stream",
     "text": [
      ">CYTB|Capra hircus mitochondrion, complete genome\n",
      "ACGTACATCAGTATTAATGTAATAAGGACATAGTATGTATATTGTACATTAAACGATCTTCCTCATGCATATAAGCATGTATAATGCTTCTATCGGCAGTACATAGTACATTTTACTGTATATTCGTACATAGCACATAGAGTCAAATCCATTCTTGTCAACATGCGTATCCCGTCCACTAGATCACGAGCTTGTTGACCATGCCGCGTGAAACCAGCAACCCGCTTGGCAGGGATCCCTCTTCTCGCTCCGGGCCCATTAACCGTGGGGGTAGCTATTTAATGAACTTTATCAGACATCTGGTTCTTTCTTCAGGGCCATCTCACCTAAAATCGCCCACTCTTCCCTCTTAAATAAGACATCTCGATGGACTAATGACTAATCAGCCCATGCTCACACATAACTGTGCTGTCATACATTTGGTATTTTTTAATTTTCGGGGATGCTTGGACTCAGCTATGGCCGTCTGAGGCCCCGACCCGGAGCATAAATTGTAGCTGGACTTAACTGCATCTTGAGCATCCCCATAATGGTAGGCATGGGCATTGCAGTCAATGGTCACAGGACATATTTATTATGTTGCATTTCATCATGCATCCGCTCCACCTTTCCCCCCCTCCTTCTTAGATATATACCACCGTTTTAAACACGCTCCCTCCTAGATATTAGTGCAAAATTTTTCTACTTCCAATACTCAAATCTTTACTCCAGCCAAGGTAAATATATAAGTGCCTGGGTCTTTTACATGGTAAGTG\n"
     ]
    }
   ],
   "source": [
    "from Bio import SeqIO\n",
    "\n",
    "GoI = \"CYTB\" #change \" cytb\" here with your GoI\n",
    "\n",
    "for genome in SeqIO.parse(\"Capra hircus complete genome mitochondrion 3.gbk\",\"genbank\"):\n",
    "    for gene in genome.features:\n",
    "        if gene.type != \"CDS\":\n",
    "            continue\n",
    "        if \"gene\" not in gene.qualifiers:\n",
    "            continue\n",
    "        if GoI not in gene.qualifiers[\"gene\"][0]: \n",
    "            continue\n",
    "    gene_seq = gene.extract(genome.seq)\n",
    "\n",
    "GoI_fasta = \">%s|%s\\n%s\" % (GoI, genome.description, gene_seq)\n",
    "print(GoI_fasta)"
   ]
  },
  {
   "cell_type": "code",
   "execution_count": 1,
   "id": "2f346e19-bcaf-4d91-b2b7-36b7dac69ff8",
   "metadata": {},
   "outputs": [],
   "source": [
    "from Bio import SeqIO\n",
    "\n",
    "GoI = \"CYTB\"\n",
    "\n",
    "for genome in SeqIO.parse(\"Capra hircus complete genome mitochondrion 3.gbk\",\"genbank\"):\n",
    "    for gene in genome.features:\n",
    "        if gene.type != \"CDS\":\n",
    "            continue\n",
    "        if \"gene\" not in gene.qualifiers:\n",
    "            continue\n",
    "        if GoI not in gene.qualifiers[\"gene\"][0]:\n",
    "            continue\n",
    "        gene_seq = gene.extract(genome.seq)\n",
    "        \n",
    "GoI_fasta = \">%s|%s\\n%s\" % (GoI, genome.description, gene_seq)\n",
    "with open(\"GoI_fasta.fasta\",\"w\") as f:\n",
    "    f.write(GoI_fasta)"
   ]
  },
  {
   "cell_type": "code",
   "execution_count": null,
   "id": "f69a8a7b-3799-46b9-80fb-c6953ad704f6",
   "metadata": {},
   "outputs": [],
   "source": []
  }
 ],
 "metadata": {
  "kernelspec": {
   "display_name": "Python 3 (ipykernel)",
   "language": "python",
   "name": "python3"
  },
  "language_info": {
   "codemirror_mode": {
    "name": "ipython",
    "version": 3
   },
   "file_extension": ".py",
   "mimetype": "text/x-python",
   "name": "python",
   "nbconvert_exporter": "python",
   "pygments_lexer": "ipython3",
   "version": "3.9.7"
  }
 },
 "nbformat": 4,
 "nbformat_minor": 5
}
